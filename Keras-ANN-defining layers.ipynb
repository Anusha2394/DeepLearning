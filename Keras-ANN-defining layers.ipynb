{
 "cells": [
  {
   "cell_type": "code",
   "execution_count": 1,
   "metadata": {},
   "outputs": [],
   "source": [
    "import numpy as np\n",
    "import pandas as pd\n",
    "import matplotlib.pyplot as plt"
   ]
  },
  {
   "cell_type": "code",
   "execution_count": 2,
   "metadata": {},
   "outputs": [],
   "source": [
    "dataset=pd.read_csv('C:/Users/kasaa/Downloads/datasets/Churn_Modelling.csv')"
   ]
  },
  {
   "cell_type": "code",
   "execution_count": 3,
   "metadata": {},
   "outputs": [
    {
     "data": {
      "text/html": [
       "<div>\n",
       "<style scoped>\n",
       "    .dataframe tbody tr th:only-of-type {\n",
       "        vertical-align: middle;\n",
       "    }\n",
       "\n",
       "    .dataframe tbody tr th {\n",
       "        vertical-align: top;\n",
       "    }\n",
       "\n",
       "    .dataframe thead th {\n",
       "        text-align: right;\n",
       "    }\n",
       "</style>\n",
       "<table border=\"1\" class=\"dataframe\">\n",
       "  <thead>\n",
       "    <tr style=\"text-align: right;\">\n",
       "      <th></th>\n",
       "      <th>RowNumber</th>\n",
       "      <th>CustomerId</th>\n",
       "      <th>Surname</th>\n",
       "      <th>CreditScore</th>\n",
       "      <th>Geography</th>\n",
       "      <th>Gender</th>\n",
       "      <th>Age</th>\n",
       "      <th>Tenure</th>\n",
       "      <th>Balance</th>\n",
       "      <th>NumOfProducts</th>\n",
       "      <th>HasCrCard</th>\n",
       "      <th>IsActiveMember</th>\n",
       "      <th>EstimatedSalary</th>\n",
       "      <th>Exited</th>\n",
       "    </tr>\n",
       "  </thead>\n",
       "  <tbody>\n",
       "    <tr>\n",
       "      <th>0</th>\n",
       "      <td>1</td>\n",
       "      <td>15634602</td>\n",
       "      <td>Hargrave</td>\n",
       "      <td>619</td>\n",
       "      <td>France</td>\n",
       "      <td>Female</td>\n",
       "      <td>42</td>\n",
       "      <td>2</td>\n",
       "      <td>0.00</td>\n",
       "      <td>1</td>\n",
       "      <td>1</td>\n",
       "      <td>1</td>\n",
       "      <td>101348.88</td>\n",
       "      <td>1</td>\n",
       "    </tr>\n",
       "    <tr>\n",
       "      <th>1</th>\n",
       "      <td>2</td>\n",
       "      <td>15647311</td>\n",
       "      <td>Hill</td>\n",
       "      <td>608</td>\n",
       "      <td>Spain</td>\n",
       "      <td>Female</td>\n",
       "      <td>41</td>\n",
       "      <td>1</td>\n",
       "      <td>83807.86</td>\n",
       "      <td>1</td>\n",
       "      <td>0</td>\n",
       "      <td>1</td>\n",
       "      <td>112542.58</td>\n",
       "      <td>0</td>\n",
       "    </tr>\n",
       "    <tr>\n",
       "      <th>2</th>\n",
       "      <td>3</td>\n",
       "      <td>15619304</td>\n",
       "      <td>Onio</td>\n",
       "      <td>502</td>\n",
       "      <td>France</td>\n",
       "      <td>Female</td>\n",
       "      <td>42</td>\n",
       "      <td>8</td>\n",
       "      <td>159660.80</td>\n",
       "      <td>3</td>\n",
       "      <td>1</td>\n",
       "      <td>0</td>\n",
       "      <td>113931.57</td>\n",
       "      <td>1</td>\n",
       "    </tr>\n",
       "    <tr>\n",
       "      <th>3</th>\n",
       "      <td>4</td>\n",
       "      <td>15701354</td>\n",
       "      <td>Boni</td>\n",
       "      <td>699</td>\n",
       "      <td>France</td>\n",
       "      <td>Female</td>\n",
       "      <td>39</td>\n",
       "      <td>1</td>\n",
       "      <td>0.00</td>\n",
       "      <td>2</td>\n",
       "      <td>0</td>\n",
       "      <td>0</td>\n",
       "      <td>93826.63</td>\n",
       "      <td>0</td>\n",
       "    </tr>\n",
       "    <tr>\n",
       "      <th>4</th>\n",
       "      <td>5</td>\n",
       "      <td>15737888</td>\n",
       "      <td>Mitchell</td>\n",
       "      <td>850</td>\n",
       "      <td>Spain</td>\n",
       "      <td>Female</td>\n",
       "      <td>43</td>\n",
       "      <td>2</td>\n",
       "      <td>125510.82</td>\n",
       "      <td>1</td>\n",
       "      <td>1</td>\n",
       "      <td>1</td>\n",
       "      <td>79084.10</td>\n",
       "      <td>0</td>\n",
       "    </tr>\n",
       "  </tbody>\n",
       "</table>\n",
       "</div>"
      ],
      "text/plain": [
       "   RowNumber  CustomerId   Surname  CreditScore Geography  Gender  Age  \\\n",
       "0          1    15634602  Hargrave          619    France  Female   42   \n",
       "1          2    15647311      Hill          608     Spain  Female   41   \n",
       "2          3    15619304      Onio          502    France  Female   42   \n",
       "3          4    15701354      Boni          699    France  Female   39   \n",
       "4          5    15737888  Mitchell          850     Spain  Female   43   \n",
       "\n",
       "   Tenure    Balance  NumOfProducts  HasCrCard  IsActiveMember  \\\n",
       "0       2       0.00              1          1               1   \n",
       "1       1   83807.86              1          0               1   \n",
       "2       8  159660.80              3          1               0   \n",
       "3       1       0.00              2          0               0   \n",
       "4       2  125510.82              1          1               1   \n",
       "\n",
       "   EstimatedSalary  Exited  \n",
       "0        101348.88       1  \n",
       "1        112542.58       0  \n",
       "2        113931.57       1  \n",
       "3         93826.63       0  \n",
       "4         79084.10       0  "
      ]
     },
     "execution_count": 3,
     "metadata": {},
     "output_type": "execute_result"
    }
   ],
   "source": [
    "dataset.head()"
   ]
  },
  {
   "cell_type": "code",
   "execution_count": 4,
   "metadata": {},
   "outputs": [],
   "source": [
    "X=dataset.iloc[:, 3:13]\n",
    "y=dataset.iloc[:, 13]"
   ]
  },
  {
   "cell_type": "code",
   "execution_count": 5,
   "metadata": {},
   "outputs": [
    {
     "data": {
      "text/plain": [
       "0    1\n",
       "1    0\n",
       "2    1\n",
       "3    0\n",
       "4    0\n",
       "Name: Exited, dtype: int64"
      ]
     },
     "execution_count": 5,
     "metadata": {},
     "output_type": "execute_result"
    }
   ],
   "source": [
    "y.head()"
   ]
  },
  {
   "cell_type": "code",
   "execution_count": 6,
   "metadata": {},
   "outputs": [
    {
     "data": {
      "text/html": [
       "<div>\n",
       "<style scoped>\n",
       "    .dataframe tbody tr th:only-of-type {\n",
       "        vertical-align: middle;\n",
       "    }\n",
       "\n",
       "    .dataframe tbody tr th {\n",
       "        vertical-align: top;\n",
       "    }\n",
       "\n",
       "    .dataframe thead th {\n",
       "        text-align: right;\n",
       "    }\n",
       "</style>\n",
       "<table border=\"1\" class=\"dataframe\">\n",
       "  <thead>\n",
       "    <tr style=\"text-align: right;\">\n",
       "      <th></th>\n",
       "      <th>CreditScore</th>\n",
       "      <th>Geography</th>\n",
       "      <th>Gender</th>\n",
       "      <th>Age</th>\n",
       "      <th>Tenure</th>\n",
       "      <th>Balance</th>\n",
       "      <th>NumOfProducts</th>\n",
       "      <th>HasCrCard</th>\n",
       "      <th>IsActiveMember</th>\n",
       "      <th>EstimatedSalary</th>\n",
       "    </tr>\n",
       "  </thead>\n",
       "  <tbody>\n",
       "    <tr>\n",
       "      <th>0</th>\n",
       "      <td>619</td>\n",
       "      <td>France</td>\n",
       "      <td>Female</td>\n",
       "      <td>42</td>\n",
       "      <td>2</td>\n",
       "      <td>0.00</td>\n",
       "      <td>1</td>\n",
       "      <td>1</td>\n",
       "      <td>1</td>\n",
       "      <td>101348.88</td>\n",
       "    </tr>\n",
       "    <tr>\n",
       "      <th>1</th>\n",
       "      <td>608</td>\n",
       "      <td>Spain</td>\n",
       "      <td>Female</td>\n",
       "      <td>41</td>\n",
       "      <td>1</td>\n",
       "      <td>83807.86</td>\n",
       "      <td>1</td>\n",
       "      <td>0</td>\n",
       "      <td>1</td>\n",
       "      <td>112542.58</td>\n",
       "    </tr>\n",
       "    <tr>\n",
       "      <th>2</th>\n",
       "      <td>502</td>\n",
       "      <td>France</td>\n",
       "      <td>Female</td>\n",
       "      <td>42</td>\n",
       "      <td>8</td>\n",
       "      <td>159660.80</td>\n",
       "      <td>3</td>\n",
       "      <td>1</td>\n",
       "      <td>0</td>\n",
       "      <td>113931.57</td>\n",
       "    </tr>\n",
       "    <tr>\n",
       "      <th>3</th>\n",
       "      <td>699</td>\n",
       "      <td>France</td>\n",
       "      <td>Female</td>\n",
       "      <td>39</td>\n",
       "      <td>1</td>\n",
       "      <td>0.00</td>\n",
       "      <td>2</td>\n",
       "      <td>0</td>\n",
       "      <td>0</td>\n",
       "      <td>93826.63</td>\n",
       "    </tr>\n",
       "    <tr>\n",
       "      <th>4</th>\n",
       "      <td>850</td>\n",
       "      <td>Spain</td>\n",
       "      <td>Female</td>\n",
       "      <td>43</td>\n",
       "      <td>2</td>\n",
       "      <td>125510.82</td>\n",
       "      <td>1</td>\n",
       "      <td>1</td>\n",
       "      <td>1</td>\n",
       "      <td>79084.10</td>\n",
       "    </tr>\n",
       "  </tbody>\n",
       "</table>\n",
       "</div>"
      ],
      "text/plain": [
       "   CreditScore Geography  Gender  Age  Tenure    Balance  NumOfProducts  \\\n",
       "0          619    France  Female   42       2       0.00              1   \n",
       "1          608     Spain  Female   41       1   83807.86              1   \n",
       "2          502    France  Female   42       8  159660.80              3   \n",
       "3          699    France  Female   39       1       0.00              2   \n",
       "4          850     Spain  Female   43       2  125510.82              1   \n",
       "\n",
       "   HasCrCard  IsActiveMember  EstimatedSalary  \n",
       "0          1               1        101348.88  \n",
       "1          0               1        112542.58  \n",
       "2          1               0        113931.57  \n",
       "3          0               0         93826.63  \n",
       "4          1               1         79084.10  "
      ]
     },
     "execution_count": 6,
     "metadata": {},
     "output_type": "execute_result"
    }
   ],
   "source": [
    "X.head()"
   ]
  },
  {
   "cell_type": "code",
   "execution_count": 7,
   "metadata": {},
   "outputs": [],
   "source": [
    "#create dummy variables\n",
    "geography = pd.get_dummies(X[\"Geography\"],drop_first=True)\n",
    "gender = pd.get_dummies(X['Gender'],drop_first=True)"
   ]
  },
  {
   "cell_type": "code",
   "execution_count": 8,
   "metadata": {},
   "outputs": [],
   "source": [
    "#concatinating dataframes\n",
    "X=pd.concat([X,geography,gender],axis=1)\n"
   ]
  },
  {
   "cell_type": "code",
   "execution_count": 9,
   "metadata": {},
   "outputs": [],
   "source": [
    "X=X.drop(['Geography','Gender'],axis=1)"
   ]
  },
  {
   "cell_type": "code",
   "execution_count": 10,
   "metadata": {},
   "outputs": [
    {
     "data": {
      "text/html": [
       "<div>\n",
       "<style scoped>\n",
       "    .dataframe tbody tr th:only-of-type {\n",
       "        vertical-align: middle;\n",
       "    }\n",
       "\n",
       "    .dataframe tbody tr th {\n",
       "        vertical-align: top;\n",
       "    }\n",
       "\n",
       "    .dataframe thead th {\n",
       "        text-align: right;\n",
       "    }\n",
       "</style>\n",
       "<table border=\"1\" class=\"dataframe\">\n",
       "  <thead>\n",
       "    <tr style=\"text-align: right;\">\n",
       "      <th></th>\n",
       "      <th>CreditScore</th>\n",
       "      <th>Age</th>\n",
       "      <th>Tenure</th>\n",
       "      <th>Balance</th>\n",
       "      <th>NumOfProducts</th>\n",
       "      <th>HasCrCard</th>\n",
       "      <th>IsActiveMember</th>\n",
       "      <th>EstimatedSalary</th>\n",
       "      <th>Germany</th>\n",
       "      <th>Spain</th>\n",
       "      <th>Male</th>\n",
       "    </tr>\n",
       "  </thead>\n",
       "  <tbody>\n",
       "    <tr>\n",
       "      <th>0</th>\n",
       "      <td>619</td>\n",
       "      <td>42</td>\n",
       "      <td>2</td>\n",
       "      <td>0.00</td>\n",
       "      <td>1</td>\n",
       "      <td>1</td>\n",
       "      <td>1</td>\n",
       "      <td>101348.88</td>\n",
       "      <td>0</td>\n",
       "      <td>0</td>\n",
       "      <td>0</td>\n",
       "    </tr>\n",
       "    <tr>\n",
       "      <th>1</th>\n",
       "      <td>608</td>\n",
       "      <td>41</td>\n",
       "      <td>1</td>\n",
       "      <td>83807.86</td>\n",
       "      <td>1</td>\n",
       "      <td>0</td>\n",
       "      <td>1</td>\n",
       "      <td>112542.58</td>\n",
       "      <td>0</td>\n",
       "      <td>1</td>\n",
       "      <td>0</td>\n",
       "    </tr>\n",
       "    <tr>\n",
       "      <th>2</th>\n",
       "      <td>502</td>\n",
       "      <td>42</td>\n",
       "      <td>8</td>\n",
       "      <td>159660.80</td>\n",
       "      <td>3</td>\n",
       "      <td>1</td>\n",
       "      <td>0</td>\n",
       "      <td>113931.57</td>\n",
       "      <td>0</td>\n",
       "      <td>0</td>\n",
       "      <td>0</td>\n",
       "    </tr>\n",
       "    <tr>\n",
       "      <th>3</th>\n",
       "      <td>699</td>\n",
       "      <td>39</td>\n",
       "      <td>1</td>\n",
       "      <td>0.00</td>\n",
       "      <td>2</td>\n",
       "      <td>0</td>\n",
       "      <td>0</td>\n",
       "      <td>93826.63</td>\n",
       "      <td>0</td>\n",
       "      <td>0</td>\n",
       "      <td>0</td>\n",
       "    </tr>\n",
       "    <tr>\n",
       "      <th>4</th>\n",
       "      <td>850</td>\n",
       "      <td>43</td>\n",
       "      <td>2</td>\n",
       "      <td>125510.82</td>\n",
       "      <td>1</td>\n",
       "      <td>1</td>\n",
       "      <td>1</td>\n",
       "      <td>79084.10</td>\n",
       "      <td>0</td>\n",
       "      <td>1</td>\n",
       "      <td>0</td>\n",
       "    </tr>\n",
       "  </tbody>\n",
       "</table>\n",
       "</div>"
      ],
      "text/plain": [
       "   CreditScore  Age  Tenure    Balance  NumOfProducts  HasCrCard  \\\n",
       "0          619   42       2       0.00              1          1   \n",
       "1          608   41       1   83807.86              1          0   \n",
       "2          502   42       8  159660.80              3          1   \n",
       "3          699   39       1       0.00              2          0   \n",
       "4          850   43       2  125510.82              1          1   \n",
       "\n",
       "   IsActiveMember  EstimatedSalary  Germany  Spain  Male  \n",
       "0               1        101348.88        0      0     0  \n",
       "1               1        112542.58        0      1     0  \n",
       "2               0        113931.57        0      0     0  \n",
       "3               0         93826.63        0      0     0  \n",
       "4               1         79084.10        0      1     0  "
      ]
     },
     "execution_count": 10,
     "metadata": {},
     "output_type": "execute_result"
    }
   ],
   "source": [
    "X.head()"
   ]
  },
  {
   "cell_type": "code",
   "execution_count": 11,
   "metadata": {},
   "outputs": [],
   "source": [
    "from sklearn.model_selection import train_test_split\n",
    "X_train,X_test,y_train,y_test = train_test_split(X,y,test_size = 0.2, random_state =0)"
   ]
  },
  {
   "cell_type": "code",
   "execution_count": 13,
   "metadata": {},
   "outputs": [],
   "source": [
    "from sklearn.preprocessing  import StandardScaler\n",
    "sc=StandardScaler()\n",
    "X_train = sc.fit_transform(X_train)\n",
    "X_test = sc.transform(X_test)"
   ]
  },
  {
   "cell_type": "code",
   "execution_count": 22,
   "metadata": {},
   "outputs": [],
   "source": [
    "#importing keras libraries\n",
    "import keras\n",
    "from keras.models import Sequential\n",
    "from keras.layers import Dense\n",
    "from keras.layers import LeakyReLU,PReLU,ELU\n",
    "from keras.layers import Dropout"
   ]
  },
  {
   "cell_type": "code",
   "execution_count": 23,
   "metadata": {},
   "outputs": [],
   "source": [
    "#initializing ANN\n",
    "classifier = Sequential()\n"
   ]
  },
  {
   "cell_type": "code",
   "execution_count": 30,
   "metadata": {},
   "outputs": [],
   "source": [
    "# Adding the input layer and the first hidden layer\n",
    "classifier.add(Dense(6, kernel_initializer = 'he_uniform',activation='relu',input_dim = 11))\n",
    "\n",
    "# Adding the second hidden layer\n",
    "classifier.add(Dense(6, kernel_initializer = 'he_uniform',activation='relu'))\n",
    "# Adding the output layer\n",
    "classifier.add(Dense(1, kernel_initializer = 'glorot_uniform', activation = 'sigmoid'))\n"
   ]
  },
  {
   "cell_type": "code",
   "execution_count": 35,
   "metadata": {},
   "outputs": [],
   "source": [
    "classifier.compile(optimizer = 'Adamax', loss = 'binary_crossentropy', metrics = ['accuracy'])\n"
   ]
  },
  {
   "cell_type": "code",
   "execution_count": 36,
   "metadata": {},
   "outputs": [
    {
     "name": "stdout",
     "output_type": "stream",
     "text": [
      "Epoch 1/100\n",
      "536/536 [==============================] - 1s 959us/step - loss: 0.5984 - accuracy: 0.7322 - val_loss: 0.5365 - val_accuracy: 0.7955\n",
      "Epoch 2/100\n",
      "536/536 [==============================] - 0s 664us/step - loss: 0.5183 - accuracy: 0.7962 - val_loss: 0.5126 - val_accuracy: 0.7955\n",
      "Epoch 3/100\n",
      "536/536 [==============================] - 0s 707us/step - loss: 0.5021 - accuracy: 0.7962 - val_loss: 0.5002 - val_accuracy: 0.7955\n",
      "Epoch 4/100\n",
      "536/536 [==============================] - 0s 679us/step - loss: 0.4914 - accuracy: 0.7962 - val_loss: 0.4906 - val_accuracy: 0.7955\n",
      "Epoch 5/100\n",
      "536/536 [==============================] - 0s 722us/step - loss: 0.4814 - accuracy: 0.7962 - val_loss: 0.4810 - val_accuracy: 0.7955\n",
      "Epoch 6/100\n",
      "536/536 [==============================] - 0s 681us/step - loss: 0.4718 - accuracy: 0.7962 - val_loss: 0.4722 - val_accuracy: 0.7955\n",
      "Epoch 7/100\n",
      "536/536 [==============================] - 0s 684us/step - loss: 0.4627 - accuracy: 0.7964 - val_loss: 0.4646 - val_accuracy: 0.7952\n",
      "Epoch 8/100\n",
      "536/536 [==============================] - 0s 689us/step - loss: 0.4549 - accuracy: 0.7987 - val_loss: 0.4586 - val_accuracy: 0.7986\n",
      "Epoch 9/100\n",
      "536/536 [==============================] - 0s 663us/step - loss: 0.4488 - accuracy: 0.8026 - val_loss: 0.4542 - val_accuracy: 0.8020\n",
      "Epoch 10/100\n",
      "536/536 [==============================] - 0s 669us/step - loss: 0.4438 - accuracy: 0.8087 - val_loss: 0.4510 - val_accuracy: 0.8042\n",
      "Epoch 11/100\n",
      "536/536 [==============================] - 0s 678us/step - loss: 0.4400 - accuracy: 0.8100 - val_loss: 0.4482 - val_accuracy: 0.8061\n",
      "Epoch 12/100\n",
      "536/536 [==============================] - 0s 659us/step - loss: 0.4365 - accuracy: 0.8110 - val_loss: 0.4458 - val_accuracy: 0.8054\n",
      "Epoch 13/100\n",
      "536/536 [==============================] - 0s 675us/step - loss: 0.4334 - accuracy: 0.8093 - val_loss: 0.4443 - val_accuracy: 0.8073\n",
      "Epoch 14/100\n",
      "536/536 [==============================] - 0s 736us/step - loss: 0.4313 - accuracy: 0.8108 - val_loss: 0.4423 - val_accuracy: 0.8054\n",
      "Epoch 15/100\n",
      "536/536 [==============================] - 0s 717us/step - loss: 0.4291 - accuracy: 0.8112 - val_loss: 0.4406 - val_accuracy: 0.8046\n",
      "Epoch 16/100\n",
      "536/536 [==============================] - 0s 708us/step - loss: 0.4271 - accuracy: 0.8121 - val_loss: 0.4389 - val_accuracy: 0.8058\n",
      "Epoch 17/100\n",
      "536/536 [==============================] - 0s 680us/step - loss: 0.4251 - accuracy: 0.8134 - val_loss: 0.4372 - val_accuracy: 0.8080\n",
      "Epoch 18/100\n",
      "536/536 [==============================] - 0s 677us/step - loss: 0.4231 - accuracy: 0.8132 - val_loss: 0.4354 - val_accuracy: 0.8088\n",
      "Epoch 19/100\n",
      "536/536 [==============================] - 0s 692us/step - loss: 0.4211 - accuracy: 0.8143 - val_loss: 0.4339 - val_accuracy: 0.8073\n",
      "Epoch 20/100\n",
      "536/536 [==============================] - 0s 679us/step - loss: 0.4192 - accuracy: 0.8171 - val_loss: 0.4320 - val_accuracy: 0.8080\n",
      "Epoch 21/100\n",
      "536/536 [==============================] - 0s 721us/step - loss: 0.4171 - accuracy: 0.8177 - val_loss: 0.4300 - val_accuracy: 0.8076\n",
      "Epoch 22/100\n",
      "536/536 [==============================] - 0s 704us/step - loss: 0.4152 - accuracy: 0.8184 - val_loss: 0.4280 - val_accuracy: 0.8084\n",
      "Epoch 23/100\n",
      "536/536 [==============================] - 0s 684us/step - loss: 0.4129 - accuracy: 0.8182 - val_loss: 0.4261 - val_accuracy: 0.8095\n",
      "Epoch 24/100\n",
      "536/536 [==============================] - 0s 683us/step - loss: 0.4103 - accuracy: 0.8184 - val_loss: 0.4241 - val_accuracy: 0.8111\n",
      "Epoch 25/100\n",
      "536/536 [==============================] - 0s 654us/step - loss: 0.4077 - accuracy: 0.8199 - val_loss: 0.4218 - val_accuracy: 0.8103\n",
      "Epoch 26/100\n",
      "536/536 [==============================] - 0s 661us/step - loss: 0.4048 - accuracy: 0.8210 - val_loss: 0.4193 - val_accuracy: 0.8114\n",
      "Epoch 27/100\n",
      "536/536 [==============================] - 0s 681us/step - loss: 0.4019 - accuracy: 0.8218 - val_loss: 0.4171 - val_accuracy: 0.8133\n",
      "Epoch 28/100\n",
      "536/536 [==============================] - 0s 669us/step - loss: 0.3985 - accuracy: 0.8252 - val_loss: 0.4145 - val_accuracy: 0.8141\n",
      "Epoch 29/100\n",
      "536/536 [==============================] - 0s 651us/step - loss: 0.3954 - accuracy: 0.8274 - val_loss: 0.4116 - val_accuracy: 0.8145\n",
      "Epoch 30/100\n",
      "536/536 [==============================] - 0s 672us/step - loss: 0.3921 - accuracy: 0.8280 - val_loss: 0.4089 - val_accuracy: 0.8164\n",
      "Epoch 31/100\n",
      "536/536 [==============================] - 0s 687us/step - loss: 0.3889 - accuracy: 0.8313 - val_loss: 0.4057 - val_accuracy: 0.8164\n",
      "Epoch 32/100\n",
      "536/536 [==============================] - 0s 665us/step - loss: 0.3854 - accuracy: 0.8354 - val_loss: 0.4034 - val_accuracy: 0.8224\n",
      "Epoch 33/100\n",
      "536/536 [==============================] - 0s 703us/step - loss: 0.3821 - accuracy: 0.8373 - val_loss: 0.4005 - val_accuracy: 0.8236\n",
      "Epoch 34/100\n",
      "536/536 [==============================] - 0s 682us/step - loss: 0.3792 - accuracy: 0.8406 - val_loss: 0.3973 - val_accuracy: 0.8247\n",
      "Epoch 35/100\n",
      "536/536 [==============================] - 0s 692us/step - loss: 0.3759 - accuracy: 0.8414 - val_loss: 0.3951 - val_accuracy: 0.8273\n",
      "Epoch 36/100\n",
      "536/536 [==============================] - 0s 690us/step - loss: 0.3733 - accuracy: 0.8408 - val_loss: 0.3925 - val_accuracy: 0.8285\n",
      "Epoch 37/100\n",
      "536/536 [==============================] - 0s 706us/step - loss: 0.3705 - accuracy: 0.8444 - val_loss: 0.3898 - val_accuracy: 0.8323\n",
      "Epoch 38/100\n",
      "536/536 [==============================] - 0s 692us/step - loss: 0.3676 - accuracy: 0.8451 - val_loss: 0.3877 - val_accuracy: 0.8323\n",
      "Epoch 39/100\n",
      "536/536 [==============================] - 0s 705us/step - loss: 0.3654 - accuracy: 0.8461 - val_loss: 0.3859 - val_accuracy: 0.8349\n",
      "Epoch 40/100\n",
      "536/536 [==============================] - 0s 712us/step - loss: 0.3631 - accuracy: 0.8489 - val_loss: 0.3840 - val_accuracy: 0.8372\n",
      "Epoch 41/100\n",
      "536/536 [==============================] - 0s 699us/step - loss: 0.3612 - accuracy: 0.8479 - val_loss: 0.3822 - val_accuracy: 0.8410\n",
      "Epoch 42/100\n",
      "536/536 [==============================] - 0s 670us/step - loss: 0.3591 - accuracy: 0.8503 - val_loss: 0.3812 - val_accuracy: 0.8398\n",
      "Epoch 43/100\n",
      "536/536 [==============================] - 0s 726us/step - loss: 0.3575 - accuracy: 0.8509 - val_loss: 0.3797 - val_accuracy: 0.8417\n",
      "Epoch 44/100\n",
      "536/536 [==============================] - 0s 678us/step - loss: 0.3558 - accuracy: 0.8522 - val_loss: 0.3782 - val_accuracy: 0.8421\n",
      "Epoch 45/100\n",
      "536/536 [==============================] - 0s 701us/step - loss: 0.3543 - accuracy: 0.8515 - val_loss: 0.3775 - val_accuracy: 0.8425\n",
      "Epoch 46/100\n",
      "536/536 [==============================] - 0s 701us/step - loss: 0.3529 - accuracy: 0.8537 - val_loss: 0.3770 - val_accuracy: 0.8421\n",
      "Epoch 47/100\n",
      "536/536 [==============================] - 0s 700us/step - loss: 0.3520 - accuracy: 0.8554 - val_loss: 0.3757 - val_accuracy: 0.8429\n",
      "Epoch 48/100\n",
      "536/536 [==============================] - 0s 675us/step - loss: 0.3509 - accuracy: 0.8558 - val_loss: 0.3753 - val_accuracy: 0.8432\n",
      "Epoch 49/100\n",
      "536/536 [==============================] - 0s 668us/step - loss: 0.3494 - accuracy: 0.8559 - val_loss: 0.3760 - val_accuracy: 0.8436\n",
      "Epoch 50/100\n",
      "536/536 [==============================] - 0s 706us/step - loss: 0.3493 - accuracy: 0.8550 - val_loss: 0.3739 - val_accuracy: 0.8463\n",
      "Epoch 51/100\n",
      "536/536 [==============================] - 0s 694us/step - loss: 0.3479 - accuracy: 0.8558 - val_loss: 0.3730 - val_accuracy: 0.8459\n",
      "Epoch 52/100\n",
      "536/536 [==============================] - 0s 693us/step - loss: 0.3473 - accuracy: 0.8571 - val_loss: 0.3724 - val_accuracy: 0.8451\n",
      "Epoch 53/100\n",
      "536/536 [==============================] - 0s 682us/step - loss: 0.3464 - accuracy: 0.8561 - val_loss: 0.3718 - val_accuracy: 0.8459\n",
      "Epoch 54/100\n",
      "536/536 [==============================] - 0s 704us/step - loss: 0.3458 - accuracy: 0.8556 - val_loss: 0.3713 - val_accuracy: 0.8455\n",
      "Epoch 55/100\n",
      "536/536 [==============================] - 0s 691us/step - loss: 0.3451 - accuracy: 0.8556 - val_loss: 0.3715 - val_accuracy: 0.8455\n",
      "Epoch 56/100\n",
      "536/536 [==============================] - 0s 766us/step - loss: 0.3443 - accuracy: 0.8582 - val_loss: 0.3703 - val_accuracy: 0.8451\n",
      "Epoch 57/100\n",
      "536/536 [==============================] - 0s 684us/step - loss: 0.3438 - accuracy: 0.8565 - val_loss: 0.3695 - val_accuracy: 0.8474\n",
      "Epoch 58/100\n",
      "536/536 [==============================] - 0s 663us/step - loss: 0.3429 - accuracy: 0.8595 - val_loss: 0.3711 - val_accuracy: 0.8459\n",
      "Epoch 59/100\n",
      "536/536 [==============================] - 0s 662us/step - loss: 0.3426 - accuracy: 0.8587 - val_loss: 0.3696 - val_accuracy: 0.8466\n",
      "Epoch 60/100\n",
      "536/536 [==============================] - 0s 765us/step - loss: 0.3425 - accuracy: 0.8569 - val_loss: 0.3687 - val_accuracy: 0.8470\n",
      "Epoch 61/100\n",
      "536/536 [==============================] - 0s 714us/step - loss: 0.3419 - accuracy: 0.8563 - val_loss: 0.3678 - val_accuracy: 0.8474\n",
      "Epoch 62/100\n",
      "536/536 [==============================] - 0s 660us/step - loss: 0.3414 - accuracy: 0.8582 - val_loss: 0.3675 - val_accuracy: 0.8478\n",
      "Epoch 63/100\n",
      "536/536 [==============================] - 0s 630us/step - loss: 0.3411 - accuracy: 0.8561 - val_loss: 0.3672 - val_accuracy: 0.8482\n",
      "Epoch 64/100\n",
      "536/536 [==============================] - 0s 786us/step - loss: 0.3408 - accuracy: 0.8582 - val_loss: 0.3668 - val_accuracy: 0.8474\n",
      "Epoch 65/100\n",
      "536/536 [==============================] - 0s 674us/step - loss: 0.3404 - accuracy: 0.8578 - val_loss: 0.3668 - val_accuracy: 0.8470\n",
      "Epoch 66/100\n",
      "536/536 [==============================] - 0s 641us/step - loss: 0.3403 - accuracy: 0.8567 - val_loss: 0.3676 - val_accuracy: 0.8474\n",
      "Epoch 67/100\n",
      "536/536 [==============================] - 0s 660us/step - loss: 0.3397 - accuracy: 0.8587 - val_loss: 0.3662 - val_accuracy: 0.8459\n",
      "Epoch 68/100\n",
      "536/536 [==============================] - 0s 622us/step - loss: 0.3395 - accuracy: 0.8578 - val_loss: 0.3660 - val_accuracy: 0.8478\n",
      "Epoch 69/100\n",
      "536/536 [==============================] - 0s 664us/step - loss: 0.3393 - accuracy: 0.8589 - val_loss: 0.3658 - val_accuracy: 0.8478\n",
      "Epoch 70/100\n",
      "536/536 [==============================] - 0s 674us/step - loss: 0.3392 - accuracy: 0.8589 - val_loss: 0.3654 - val_accuracy: 0.8463\n",
      "Epoch 71/100\n",
      "536/536 [==============================] - 0s 666us/step - loss: 0.3388 - accuracy: 0.8589 - val_loss: 0.3661 - val_accuracy: 0.8444\n",
      "Epoch 72/100\n",
      "536/536 [==============================] - 0s 657us/step - loss: 0.3389 - accuracy: 0.8576 - val_loss: 0.3654 - val_accuracy: 0.8474\n",
      "Epoch 73/100\n",
      "536/536 [==============================] - 0s 695us/step - loss: 0.3387 - accuracy: 0.8578 - val_loss: 0.3653 - val_accuracy: 0.8459\n",
      "Epoch 74/100\n",
      "536/536 [==============================] - 0s 660us/step - loss: 0.3382 - accuracy: 0.8604 - val_loss: 0.3657 - val_accuracy: 0.8478\n",
      "Epoch 75/100\n",
      "536/536 [==============================] - 0s 660us/step - loss: 0.3380 - accuracy: 0.8589 - val_loss: 0.3652 - val_accuracy: 0.8459\n",
      "Epoch 76/100\n",
      "536/536 [==============================] - 0s 639us/step - loss: 0.3380 - accuracy: 0.8580 - val_loss: 0.3654 - val_accuracy: 0.8474\n",
      "Epoch 77/100\n",
      "536/536 [==============================] - 0s 661us/step - loss: 0.3378 - accuracy: 0.8576 - val_loss: 0.3655 - val_accuracy: 0.8485\n",
      "Epoch 78/100\n",
      "536/536 [==============================] - 0s 627us/step - loss: 0.3377 - accuracy: 0.8597 - val_loss: 0.3653 - val_accuracy: 0.8463\n",
      "Epoch 79/100\n",
      "536/536 [==============================] - 0s 660us/step - loss: 0.3374 - accuracy: 0.8597 - val_loss: 0.3655 - val_accuracy: 0.8448\n",
      "Epoch 80/100\n",
      "536/536 [==============================] - 0s 666us/step - loss: 0.3373 - accuracy: 0.8599 - val_loss: 0.3646 - val_accuracy: 0.8455\n",
      "Epoch 81/100\n",
      "536/536 [==============================] - 0s 679us/step - loss: 0.3372 - accuracy: 0.8586 - val_loss: 0.3648 - val_accuracy: 0.8463\n",
      "Epoch 82/100\n",
      "536/536 [==============================] - 0s 700us/step - loss: 0.3374 - accuracy: 0.8582 - val_loss: 0.3645 - val_accuracy: 0.8455\n",
      "Epoch 83/100\n",
      "536/536 [==============================] - 0s 652us/step - loss: 0.3369 - accuracy: 0.8597 - val_loss: 0.3645 - val_accuracy: 0.8474\n",
      "Epoch 84/100\n",
      "536/536 [==============================] - 0s 760us/step - loss: 0.3370 - accuracy: 0.8589 - val_loss: 0.3646 - val_accuracy: 0.8466\n",
      "Epoch 85/100\n",
      "536/536 [==============================] - 0s 693us/step - loss: 0.3366 - accuracy: 0.8599 - val_loss: 0.3641 - val_accuracy: 0.8463\n",
      "Epoch 86/100\n",
      "536/536 [==============================] - 0s 699us/step - loss: 0.3368 - accuracy: 0.8593 - val_loss: 0.3644 - val_accuracy: 0.8470\n",
      "Epoch 87/100\n",
      "536/536 [==============================] - 0s 700us/step - loss: 0.3367 - accuracy: 0.8586 - val_loss: 0.3640 - val_accuracy: 0.8466\n",
      "Epoch 88/100\n",
      "536/536 [==============================] - 0s 697us/step - loss: 0.3365 - accuracy: 0.8604 - val_loss: 0.3644 - val_accuracy: 0.8466\n",
      "Epoch 89/100\n",
      "536/536 [==============================] - 0s 677us/step - loss: 0.3364 - accuracy: 0.8597 - val_loss: 0.3638 - val_accuracy: 0.8455\n",
      "Epoch 90/100\n",
      "536/536 [==============================] - 0s 675us/step - loss: 0.3362 - accuracy: 0.8599 - val_loss: 0.3645 - val_accuracy: 0.8455\n",
      "Epoch 91/100\n",
      "536/536 [==============================] - 0s 678us/step - loss: 0.3362 - accuracy: 0.8614 - val_loss: 0.3640 - val_accuracy: 0.8459\n",
      "Epoch 92/100\n",
      "536/536 [==============================] - 0s 671us/step - loss: 0.3358 - accuracy: 0.8589 - val_loss: 0.3652 - val_accuracy: 0.8470\n",
      "Epoch 93/100\n",
      "536/536 [==============================] - 0s 646us/step - loss: 0.3363 - accuracy: 0.8617 - val_loss: 0.3639 - val_accuracy: 0.8459\n",
      "Epoch 94/100\n",
      "536/536 [==============================] - 0s 682us/step - loss: 0.3360 - accuracy: 0.8608 - val_loss: 0.3639 - val_accuracy: 0.8470\n",
      "Epoch 95/100\n",
      "536/536 [==============================] - 0s 661us/step - loss: 0.3360 - accuracy: 0.8602 - val_loss: 0.3644 - val_accuracy: 0.8451\n",
      "Epoch 96/100\n",
      "536/536 [==============================] - 0s 674us/step - loss: 0.3361 - accuracy: 0.8610 - val_loss: 0.3643 - val_accuracy: 0.8455\n",
      "Epoch 97/100\n",
      "536/536 [==============================] - 0s 678us/step - loss: 0.3359 - accuracy: 0.8606 - val_loss: 0.3640 - val_accuracy: 0.8463\n",
      "Epoch 98/100\n",
      "536/536 [==============================] - 0s 666us/step - loss: 0.3358 - accuracy: 0.8612 - val_loss: 0.3639 - val_accuracy: 0.8466\n",
      "Epoch 99/100\n",
      "536/536 [==============================] - 0s 665us/step - loss: 0.3356 - accuracy: 0.8615 - val_loss: 0.3640 - val_accuracy: 0.8459\n",
      "Epoch 100/100\n",
      "536/536 [==============================] - 0s 670us/step - loss: 0.3355 - accuracy: 0.8608 - val_loss: 0.3642 - val_accuracy: 0.8451\n"
     ]
    }
   ],
   "source": [
    "model_history=classifier.fit(X_train,y_train,validation_split=0.33, batch_size = 10, epochs = 100,     verbose=1,\n",
    ")"
   ]
  },
  {
   "cell_type": "code",
   "execution_count": 37,
   "metadata": {},
   "outputs": [
    {
     "name": "stdout",
     "output_type": "stream",
     "text": [
      "dict_keys(['loss', 'accuracy', 'val_loss', 'val_accuracy'])\n"
     ]
    }
   ],
   "source": [
    "print(model_history.history.keys())"
   ]
  },
  {
   "cell_type": "code",
   "execution_count": 39,
   "metadata": {},
   "outputs": [
    {
     "data": {
      "image/png": "[encoded data removed]",
      "text/plain": [
       "<Figure size 432x288 with 1 Axes>"
      ]
     },
     "metadata": {
      "needs_background": "light"
     },
     "output_type": "display_data"
    }
   ],
   "source": [
    "plt.plot(model_history.history['accuracy'])\n",
    "plt.plot(model_history.history['val_accuracy'])\n",
    "plt.title('model accuracy')\n",
    "plt.ylabel('accuracy')\n",
    "plt.xlabel('epoch')\n",
    "plt.legend(['train','test'], loc='upper left')\n",
    "plt.show()\n"
   ]
  },
  {
   "cell_type": "code",
   "execution_count": 40,
   "metadata": {},
   "outputs": [
    {
     "data": {
      "image/png": "[encoded data removed]",
      "text/plain": [
       "<Figure size 432x288 with 1 Axes>"
      ]
     },
     "metadata": {
      "needs_background": "light"
     },
     "output_type": "display_data"
    }
   ],
   "source": [
    "plt.plot(model_history.history['loss'])\n",
    "plt.plot(model_history.history['val_loss'])\n",
    "plt.title('model loss')\n",
    "plt.ylabel('loss')\n",
    "plt.xlabel('epoch')\n",
    "plt.legend(['train','test'], loc='upper left')\n",
    "plt.show()"
   ]
  },
  {
   "cell_type": "code",
   "execution_count": 53,
   "metadata": {},
   "outputs": [],
   "source": [
    "y_pred = classifier.predict(X_test)\n",
    "y_pred = (y_pred > 0.5)"
   ]
  },
  {
   "cell_type": "code",
   "execution_count": 54,
   "metadata": {},
   "outputs": [
    {
     "data": {
      "text/plain": [
       "array([[False],\n",
       "       [False],\n",
       "       [False],\n",
       "       ...,\n",
       "       [False],\n",
       "       [False],\n",
       "       [False]])"
      ]
     },
     "execution_count": 54,
     "metadata": {},
     "output_type": "execute_result"
    }
   ],
   "source": [
    "y_pred"
   ]
  },
  {
   "cell_type": "code",
   "execution_count": 55,
   "metadata": {},
   "outputs": [],
   "source": [
    "from sklearn.metrics import confusion_matrix\n",
    "cm = confusion_matrix(y_test, y_pred)"
   ]
  },
  {
   "cell_type": "code",
   "execution_count": 56,
   "metadata": {},
   "outputs": [
    {
     "data": {
      "text/plain": [
       "array([[1523,   72],\n",
       "       [ 217,  188]], dtype=int64)"
      ]
     },
     "execution_count": 56,
     "metadata": {},
     "output_type": "execute_result"
    }
   ],
   "source": [
    "cm"
   ]
  },
  {
   "cell_type": "code",
   "execution_count": 57,
   "metadata": {},
   "outputs": [],
   "source": [
    "from sklearn.metrics import accuracy_score\n",
    "score = accuracy_score(y_pred,y_test)"
   ]
  },
  {
   "cell_type": "code",
   "execution_count": 58,
   "metadata": {},
   "outputs": [
    {
     "data": {
      "text/plain": [
       "0.8555"
      ]
     },
     "execution_count": 58,
     "metadata": {},
     "output_type": "execute_result"
    }
   ],
   "source": [
    "score"
   ]
  },
  {
   "cell_type": "code",
   "execution_count": null,
   "metadata": {},
   "outputs": [],
   "source": []
  }
 ],
 "metadata": {
  "kernelspec": {
   "display_name": "Python 3",
   "language": "python",
   "name": "python3"
  },
  "language_info": {
   "codemirror_mode": {
    "name": "ipython",
    "version": 3
   },
   "file_extension": ".py",
   "mimetype": "text/x-python",
   "name": "python",
   "nbconvert_exporter": "python",
   "pygments_lexer": "ipython3",
   "version": "3.8.3"
  }
 },
 "nbformat": 4,
 "nbformat_minor": 4
}
